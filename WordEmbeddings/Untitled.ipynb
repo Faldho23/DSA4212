{
 "cells": [
  {
   "cell_type": "code",
   "execution_count": 2,
   "id": "b0a57a9a",
   "metadata": {},
   "outputs": [],
   "source": [
    "import numpy as np\n",
    "import pandas as pd\n",
    "import nltk\n",
    "from nltk import word_tokenize\n",
    "from nltk.corpus import stopwords\n",
    "from datasets import load_dataset\n",
    "import string\n",
    "import jax\n",
    "import jax.numpy as jnp\n",
    "import re"
   ]
  },
  {
   "cell_type": "code",
   "execution_count": 3,
   "id": "2f9ca7a9",
   "metadata": {},
   "outputs": [
    {
     "name": "stderr",
     "output_type": "stream",
     "text": [
      "[nltk_data] Downloading package brown to\n",
      "[nltk_data]     C:\\Users\\Vincent\\AppData\\Roaming\\nltk_data...\n",
      "[nltk_data]   Package brown is already up-to-date!\n",
      "[nltk_data] Downloading package stopwords to\n",
      "[nltk_data]     C:\\Users\\Vincent\\AppData\\Roaming\\nltk_data...\n",
      "[nltk_data]   Package stopwords is already up-to-date!\n"
     ]
    },
    {
     "data": {
      "text/plain": [
       "True"
      ]
     },
     "execution_count": 3,
     "metadata": {},
     "output_type": "execute_result"
    }
   ],
   "source": [
    "nltk.download('brown')\n",
    "nltk.download('stopwords')"
   ]
  },
  {
   "cell_type": "code",
   "execution_count": 4,
   "id": "c115b3be",
   "metadata": {},
   "outputs": [
    {
     "name": "stdout",
     "output_type": "stream",
     "text": [
      "Number of Sentences: 57340\n"
     ]
    }
   ],
   "source": [
    "brown = nltk.corpus.brown\n",
    "sents = brown.sents()\n",
    "stopwords = stopwords.words(\"english\")\n",
    "\n",
    "processed_sents = []\n",
    "for sent in sents:\n",
    "    processed_sents.append([word.lower() for word in sent if word.isalnum() and word not in stopwords])\n",
    "\n",
    "print('Number of Sentences:', len(sents))"
   ]
  },
  {
   "cell_type": "code",
   "execution_count": 22,
   "id": "c64c6702",
   "metadata": {},
   "outputs": [],
   "source": [
    "def create_dictionary(texts):\n",
    "    # record known words\n",
    "    tmp = set()\n",
    "    for text in texts:\n",
    "        for word in text:\n",
    "            tmp.add(word)\n",
    "            \n",
    "    # create dictionary mapping from word to unique id\n",
    "    dct = {}\n",
    "    i = 0\n",
    "    for word in tmp:\n",
    "        dct[word] = i\n",
    "        i += 1\n",
    "    return dct\n",
    "\n",
    "def one_hot_encode_from_word(word, dct):\n",
    "    arr = np.zeros(len(dct))\n",
    "    arr[dct[word]] = 1\n",
    "    return arr\n",
    "\n",
    "def one_hot_encode_from_id(index, dct):\n",
    "    arr = np.zeros(len(dct))\n",
    "    arr[index] = 1\n",
    "    return arr\n",
    "\n",
    "def softmax(x):\n",
    "    # Shift x to avoid numerical instability\n",
    "    shifted_x = x - jnp.max(x, axis=0, keepdims=True)\n",
    "    \n",
    "    # Compute softmax values\n",
    "    exp_x = jnp.exp(shifted_x)\n",
    "    softmax_values = exp_x / jnp.sum(exp_x, axis=0, keepdims=True)\n",
    "    \n",
    "    return softmax_values\n",
    "\n",
    "def init_weights(dct_size, embedding_size):\n",
    "    lst = []\n",
    "    lst.append(np.random.normal(0, 1, size = (embedding_size, dct_size)))\n",
    "    lst.append(np.random.normal(0, 1, size = (dct_size, embedding_size)))\n",
    "    return lst\n",
    "\n",
    "@jax.jit\n",
    "def forward(weights, x):\n",
    "    return jnp.matmul(weights[1], jnp.matmul(weights[0], x))\n",
    "\n",
    "@jax.jit\n",
    "def loss(weights, x, y):\n",
    "    x_max = jnp.max(x, axis=0, keepdims=True)\n",
    "    log_softmax = x - x_max - jnp.log(jnp.sum(jnp.exp(x - x_max), axis=0, keepdims=True))\n",
    "    return -jnp.sum(log_softmax * y)\n",
    "\n",
    "loss_value_and_grad = jax.jit(jax.value_and_grad(loss))"
   ]
  },
  {
   "cell_type": "code",
   "execution_count": 26,
   "id": "98268295",
   "metadata": {},
   "outputs": [
    {
     "name": "stdout",
     "output_type": "stream",
     "text": [
      "41007\n",
      "343371\n"
     ]
    },
    {
     "ename": "KeyboardInterrupt",
     "evalue": "",
     "output_type": "error",
     "traceback": [
      "\u001b[1;31m---------------------------------------------------------------------------\u001b[0m",
      "\u001b[1;31mKeyboardInterrupt\u001b[0m                         Traceback (most recent call last)",
      "Cell \u001b[1;32mIn[26], line 48\u001b[0m\n\u001b[0;32m     44\u001b[0m y_batch \u001b[38;5;241m=\u001b[39m jnp\u001b[38;5;241m.\u001b[39marray([one_hot_encode_from_word(word, dct) \u001b[38;5;28;01mfor\u001b[39;00m word \u001b[38;5;129;01min\u001b[39;00m y_batch])\n\u001b[0;32m     45\u001b[0m \u001b[38;5;66;03m# print(x_batch)\u001b[39;00m\n\u001b[0;32m     46\u001b[0m \u001b[38;5;66;03m# print(y_batch)\u001b[39;00m\n\u001b[1;32m---> 48\u001b[0m loss_value, grad \u001b[38;5;241m=\u001b[39m loss_value_and_grad(W, \u001b[43mx_batch\u001b[49m\u001b[38;5;241;43m.\u001b[39;49m\u001b[43mT\u001b[49m, y_batch\u001b[38;5;241m.\u001b[39mT)\n\u001b[0;32m     49\u001b[0m losses\u001b[38;5;241m.\u001b[39mappend(loss_value)\n\u001b[0;32m     50\u001b[0m \u001b[38;5;66;03m#  print(grad)\u001b[39;00m\n\u001b[0;32m     51\u001b[0m \u001b[38;5;66;03m#  print(jax.grad(loss)(W, x_batch.T, y_batch.T))\u001b[39;00m\n\u001b[0;32m     52\u001b[0m \u001b[38;5;66;03m#  break\u001b[39;00m\n",
      "File \u001b[1;32m~\\AppData\\Local\\Programs\\Python\\Python39\\lib\\site-packages\\jax\\_src\\numpy\\lax_numpy.py:559\u001b[0m, in \u001b[0;36mtranspose\u001b[1;34m(a, axes)\u001b[0m\n\u001b[0;32m    557\u001b[0m axes_ \u001b[38;5;241m=\u001b[39m \u001b[38;5;28mlist\u001b[39m(\u001b[38;5;28mrange\u001b[39m(ndim(a))[::\u001b[38;5;241m-\u001b[39m\u001b[38;5;241m1\u001b[39m]) \u001b[38;5;28;01mif\u001b[39;00m axes \u001b[38;5;129;01mis\u001b[39;00m \u001b[38;5;28;01mNone\u001b[39;00m \u001b[38;5;28;01melse\u001b[39;00m axes\n\u001b[0;32m    558\u001b[0m axes_ \u001b[38;5;241m=\u001b[39m [_canonicalize_axis(i, ndim(a)) \u001b[38;5;28;01mfor\u001b[39;00m i \u001b[38;5;129;01min\u001b[39;00m axes_]\n\u001b[1;32m--> 559\u001b[0m \u001b[38;5;28;01mreturn\u001b[39;00m \u001b[43mlax\u001b[49m\u001b[38;5;241;43m.\u001b[39;49m\u001b[43mtranspose\u001b[49m\u001b[43m(\u001b[49m\u001b[43ma\u001b[49m\u001b[43m,\u001b[49m\u001b[43m \u001b[49m\u001b[43maxes_\u001b[49m\u001b[43m)\u001b[49m\n",
      "File \u001b[1;32m~\\AppData\\Local\\Programs\\Python\\Python39\\lib\\site-packages\\jax\\_src\\lax\\lax.py:966\u001b[0m, in \u001b[0;36mtranspose\u001b[1;34m(operand, permutation)\u001b[0m\n\u001b[0;32m    964\u001b[0m   \u001b[38;5;28;01mreturn\u001b[39;00m type_cast(Array, operand)\n\u001b[0;32m    965\u001b[0m \u001b[38;5;28;01melse\u001b[39;00m:\n\u001b[1;32m--> 966\u001b[0m   \u001b[38;5;28;01mreturn\u001b[39;00m \u001b[43mtranspose_p\u001b[49m\u001b[38;5;241;43m.\u001b[39;49m\u001b[43mbind\u001b[49m\u001b[43m(\u001b[49m\u001b[43moperand\u001b[49m\u001b[43m,\u001b[49m\u001b[43m \u001b[49m\u001b[43mpermutation\u001b[49m\u001b[38;5;241;43m=\u001b[39;49m\u001b[43mpermutation\u001b[49m\u001b[43m)\u001b[49m\n",
      "File \u001b[1;32m~\\AppData\\Local\\Programs\\Python\\Python39\\lib\\site-packages\\jax\\_src\\core.py:444\u001b[0m, in \u001b[0;36mPrimitive.bind\u001b[1;34m(self, *args, **params)\u001b[0m\n\u001b[0;32m    441\u001b[0m \u001b[38;5;28;01mdef\u001b[39;00m \u001b[38;5;21mbind\u001b[39m(\u001b[38;5;28mself\u001b[39m, \u001b[38;5;241m*\u001b[39margs, \u001b[38;5;241m*\u001b[39m\u001b[38;5;241m*\u001b[39mparams):\n\u001b[0;32m    442\u001b[0m   \u001b[38;5;28;01massert\u001b[39;00m (\u001b[38;5;129;01mnot\u001b[39;00m config\u001b[38;5;241m.\u001b[39menable_checks\u001b[38;5;241m.\u001b[39mvalue \u001b[38;5;129;01mor\u001b[39;00m\n\u001b[0;32m    443\u001b[0m           \u001b[38;5;28mall\u001b[39m(\u001b[38;5;28misinstance\u001b[39m(arg, Tracer) \u001b[38;5;129;01mor\u001b[39;00m valid_jaxtype(arg) \u001b[38;5;28;01mfor\u001b[39;00m arg \u001b[38;5;129;01min\u001b[39;00m args)), args\n\u001b[1;32m--> 444\u001b[0m   \u001b[38;5;28;01mreturn\u001b[39;00m \u001b[38;5;28;43mself\u001b[39;49m\u001b[38;5;241;43m.\u001b[39;49m\u001b[43mbind_with_trace\u001b[49m\u001b[43m(\u001b[49m\u001b[43mfind_top_trace\u001b[49m\u001b[43m(\u001b[49m\u001b[43margs\u001b[49m\u001b[43m)\u001b[49m\u001b[43m,\u001b[49m\u001b[43m \u001b[49m\u001b[43margs\u001b[49m\u001b[43m,\u001b[49m\u001b[43m \u001b[49m\u001b[43mparams\u001b[49m\u001b[43m)\u001b[49m\n",
      "File \u001b[1;32m~\\AppData\\Local\\Programs\\Python\\Python39\\lib\\site-packages\\jax\\_src\\core.py:447\u001b[0m, in \u001b[0;36mPrimitive.bind_with_trace\u001b[1;34m(self, trace, args, params)\u001b[0m\n\u001b[0;32m    446\u001b[0m \u001b[38;5;28;01mdef\u001b[39;00m \u001b[38;5;21mbind_with_trace\u001b[39m(\u001b[38;5;28mself\u001b[39m, trace, args, params):\n\u001b[1;32m--> 447\u001b[0m   out \u001b[38;5;241m=\u001b[39m \u001b[43mtrace\u001b[49m\u001b[38;5;241;43m.\u001b[39;49m\u001b[43mprocess_primitive\u001b[49m\u001b[43m(\u001b[49m\u001b[38;5;28;43mself\u001b[39;49m\u001b[43m,\u001b[49m\u001b[43m \u001b[49m\u001b[38;5;28;43mmap\u001b[39;49m\u001b[43m(\u001b[49m\u001b[43mtrace\u001b[49m\u001b[38;5;241;43m.\u001b[39;49m\u001b[43mfull_raise\u001b[49m\u001b[43m,\u001b[49m\u001b[43m \u001b[49m\u001b[43margs\u001b[49m\u001b[43m)\u001b[49m\u001b[43m,\u001b[49m\u001b[43m \u001b[49m\u001b[43mparams\u001b[49m\u001b[43m)\u001b[49m\n\u001b[0;32m    448\u001b[0m   \u001b[38;5;28;01mreturn\u001b[39;00m \u001b[38;5;28mmap\u001b[39m(full_lower, out) \u001b[38;5;28;01mif\u001b[39;00m \u001b[38;5;28mself\u001b[39m\u001b[38;5;241m.\u001b[39mmultiple_results \u001b[38;5;28;01melse\u001b[39;00m full_lower(out)\n",
      "File \u001b[1;32m~\\AppData\\Local\\Programs\\Python\\Python39\\lib\\site-packages\\jax\\_src\\core.py:935\u001b[0m, in \u001b[0;36mEvalTrace.process_primitive\u001b[1;34m(self, primitive, tracers, params)\u001b[0m\n\u001b[0;32m    934\u001b[0m \u001b[38;5;28;01mdef\u001b[39;00m \u001b[38;5;21mprocess_primitive\u001b[39m(\u001b[38;5;28mself\u001b[39m, primitive, tracers, params):\n\u001b[1;32m--> 935\u001b[0m   \u001b[38;5;28;01mreturn\u001b[39;00m primitive\u001b[38;5;241m.\u001b[39mimpl(\u001b[38;5;241m*\u001b[39mtracers, \u001b[38;5;241m*\u001b[39m\u001b[38;5;241m*\u001b[39mparams)\n",
      "File \u001b[1;32m~\\AppData\\Local\\Programs\\Python\\Python39\\lib\\site-packages\\jax\\_src\\dispatch.py:87\u001b[0m, in \u001b[0;36mapply_primitive\u001b[1;34m(prim, *args, **params)\u001b[0m\n\u001b[0;32m     85\u001b[0m prev \u001b[38;5;241m=\u001b[39m lib\u001b[38;5;241m.\u001b[39mjax_jit\u001b[38;5;241m.\u001b[39mswap_thread_local_state_disable_jit(\u001b[38;5;28;01mFalse\u001b[39;00m)\n\u001b[0;32m     86\u001b[0m \u001b[38;5;28;01mtry\u001b[39;00m:\n\u001b[1;32m---> 87\u001b[0m   outs \u001b[38;5;241m=\u001b[39m \u001b[43mfun\u001b[49m\u001b[43m(\u001b[49m\u001b[38;5;241;43m*\u001b[39;49m\u001b[43margs\u001b[49m\u001b[43m)\u001b[49m\n\u001b[0;32m     88\u001b[0m \u001b[38;5;28;01mfinally\u001b[39;00m:\n\u001b[0;32m     89\u001b[0m   lib\u001b[38;5;241m.\u001b[39mjax_jit\u001b[38;5;241m.\u001b[39mswap_thread_local_state_disable_jit(prev)\n",
      "\u001b[1;31mKeyboardInterrupt\u001b[0m: "
     ]
    }
   ],
   "source": [
    "# create dictionary for known words\n",
    "dct = create_dictionary(processed_sents)\n",
    "print(len(dct))\n",
    "\n",
    "# initialize weights randomly\n",
    "W = init_weights(len(dct), 300)\n",
    "\n",
    "context_amount = 5\n",
    "context_target_pair = []\n",
    "for review in processed_sents:\n",
    "    for i in range(context_amount//2, len(review)-context_amount//2):\n",
    "        context_target_pair.append(((*review[(i-context_amount//2):i], *review[(i+1):(i+context_amount//2+1)]), review[i]))\n",
    "print(len(context_target_pair))\n",
    "        \n",
    "# gradient_descent\n",
    "N = len(context_target_pair)\n",
    "lr = 0.01\n",
    "n_epochs = 100\n",
    "batch_size = 256\n",
    "n_batches = N // batch_size\n",
    "\n",
    "losses = []\n",
    "\n",
    "for epoch in range(n_epochs):\n",
    "    # shuffle the data\n",
    "    perm = np.random.permutation(N)\n",
    "    data = np.array(context_target_pair, dtype=object)\n",
    "    data_x = data[perm, 0]\n",
    "    data_y = data[perm, 1]\n",
    "\n",
    "    # stores all the losses for this epoch\n",
    "    epoch_losses = []\n",
    "    for batch in range(n_batches):\n",
    "        x_batch = data_x[batch*batch_size:(batch+1)*batch_size]\n",
    "        y_batch = data_y[batch*batch_size:(batch+1)*batch_size]\n",
    "        # one_hot_encode each batch\n",
    "        tmp = []\n",
    "        for context in x_batch:\n",
    "            vec = np.zeros(len(dct))\n",
    "            for word in context:\n",
    "                vec += one_hot_encode_from_word(word, dct)\n",
    "            tmp.append(vec)\n",
    "        x_batch = jnp.array(tmp)\n",
    "        y_batch = jnp.array([one_hot_encode_from_word(word, dct) for word in y_batch])\n",
    "        # print(x_batch)\n",
    "        # print(y_batch)\n",
    "        \n",
    "        loss_value, grad = loss_value_and_grad(W, x_batch.T, y_batch.T)\n",
    "        losses.append(loss_value)\n",
    "        #  print(grad)\n",
    "        #  print(jax.grad(loss)(W, x_batch.T, y_batch.T))\n",
    "        #  break\n",
    "        W = [W[0]-lr*grad[0], W[1]-lr*grad[1]]\n",
    "        # a slightly better / more-readable way to do this update is to use the \n",
    "        # `jax.tree_map`: https://jax.readthedocs.io/en/latest/jax-101/05.1-pytrees.html\n",
    "        # and the update would read as follows:\n",
    "        #\n",
    "        # params = jax.tree_map(lambda param, grad: param - lr*grad,params, grad)\n",
    "        #\n",
    "        epoch_losses.append(loss_value)\n",
    "#         if batch%500 == 0: print(\"batch: \", batch, \"/\", n_batches, \" \", loss_value)\n",
    "        \n",
    "    # display the loss every 100 epochs\n",
    "#     if (epoch+1) % 5 == 0:\n",
    "#         print(f\"Epoch {epoch+1}/{n_epochs}, loss = {np.mean(epoch_losses)}\")\n",
    "    print(f\"Epoch {epoch+1}/{n_epochs}, loss = {np.mean(epoch_losses)}\")\n"
   ]
  },
  {
   "cell_type": "code",
   "execution_count": null,
   "id": "a2654ae1",
   "metadata": {},
   "outputs": [],
   "source": []
  }
 ],
 "metadata": {
  "kernelspec": {
   "display_name": "Python 3 (ipykernel)",
   "language": "python",
   "name": "python3"
  },
  "language_info": {
   "codemirror_mode": {
    "name": "ipython",
    "version": 3
   },
   "file_extension": ".py",
   "mimetype": "text/x-python",
   "name": "python",
   "nbconvert_exporter": "python",
   "pygments_lexer": "ipython3",
   "version": "3.9.13"
  }
 },
 "nbformat": 4,
 "nbformat_minor": 5
}

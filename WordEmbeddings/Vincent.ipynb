{
 "cells": [
  {
   "cell_type": "code",
   "execution_count": 1,
   "id": "5cb2cda9",
   "metadata": {},
   "outputs": [],
   "source": [
    "import numpy as np\n",
    "import pandas as pd\n",
    "from nltk import word_tokenize\n",
    "from datasets import load_dataset\n",
    "import string\n",
    "import jax\n",
    "import jax.numpy as jnp\n",
    "import re"
   ]
  },
  {
   "cell_type": "code",
   "execution_count": 2,
   "id": "2ea11bed",
   "metadata": {},
   "outputs": [],
   "source": [
    "# get dataset from huggingface\n",
    "data = load_dataset(\"imdb\")\n",
    "\n",
    "# get the reviews as array\n",
    "movie_reviews = np.array(data[\"unsupervised\"].data[\"text\"])\n",
    "\n",
    "# tokenize the dataset and remove punctuations\n",
    "movie_reviews_clean = []\n",
    "for review in movie_reviews:\n",
    "    movie_reviews_clean.append([re.sub(\"[^\\w]\", \"\", word.lower()) for word in word_tokenize(review)])"
   ]
  },
  {
   "cell_type": "code",
   "execution_count": 13,
   "id": "6e4e759b",
   "metadata": {},
   "outputs": [
    {
     "name": "stdout",
     "output_type": "stream",
     "text": [
      "[(('this', 'is', 'a', 'precious'), 'just'), (('is', 'just', 'precious', 'little'), 'a'), (('just', 'a', 'little', 'diamond'), 'precious'), (('a', 'precious', 'diamond', ''), 'little'), (('precious', 'little', '', 'the'), 'diamond'), (('little', 'diamond', 'the', 'play'), ''), (('diamond', '', 'play', ''), 'the'), (('', 'the', '', 'the'), 'play'), (('the', 'play', 'the', 'script'), ''), (('play', '', 'script', 'are'), 'the')]\n",
      "13967876\n"
     ]
    }
   ],
   "source": [
    "context_amount = 5\n",
    "context_target_pair = []\n",
    "for review in movie_reviews_clean:\n",
    "    for i in range(context_amount//2, len(review)-context_amount//2):\n",
    "        context_target_pair.append(((*review[(i-context_amount//2):i], *review[(i+1):(i+context_amount//2+1)]), review[i]))\n",
    "\n",
    "print(context_target_pair[:10])\n",
    "print(len(context_target_pair))"
   ]
  },
  {
   "cell_type": "code",
   "execution_count": 37,
   "id": "2cabca0a",
   "metadata": {},
   "outputs": [],
   "source": [
    "def create_dictionary(texts):\n",
    "    # record known words\n",
    "    tmp = set()\n",
    "    for text in texts:\n",
    "        for word in text:\n",
    "            tmp.add(word)\n",
    "            \n",
    "    # create dictionary mapping from word to unique id\n",
    "    dct = {}\n",
    "    i = 0\n",
    "    for word in tmp:\n",
    "        dct[word] = i\n",
    "        i += 1\n",
    "    return dct\n",
    "\n",
    "def one_hot_encode_from_word(word, dct):\n",
    "    arr = np.zeros(len(dct))\n",
    "    arr[dct[word]] = 1\n",
    "    return arr\n",
    "\n",
    "def one_hot_encode_from_id(index, dct):\n",
    "    arr = np.zeros(len(dct))\n",
    "    arr[index] = 1\n",
    "    return arr\n",
    "\n",
    "def softmax(z):\n",
    "    # shift input values for numerical stability\n",
    "    z -= jnp.max(z)\n",
    "    \n",
    "    # compute softmax\n",
    "    exp_z = jnp.exp(z)\n",
    "    s = exp_z / jnp.sum(exp_z, axis=0)\n",
    "    \n",
    "    return s\n",
    "\n",
    "def init_weights(dct_size, embedding_size):\n",
    "    lst = []\n",
    "    lst.append(np.random.normal(0, 1, size = (embedding_size, dct_size)))\n",
    "    lst.append(np.random.normal(0, 1, size = (dct_size, embedding_size)))\n",
    "    return lst\n",
    "\n",
    "def forward(x, weights):\n",
    "    return softmax(jnp.matmul(weights[1], jnp.matmul(weights[0], x)))\n",
    "\n",
    "def loss(weights, x, y):\n",
    "    return -jnp.mean(jnp.sum(y * jnp.log(forward(x, weights)), axis=1))\n",
    "\n",
    "loss_value_and_grad = jax.jit(jax.value_and_grad(loss))"
   ]
  },
  {
   "cell_type": "code",
   "execution_count": 31,
   "id": "a5315d7b",
   "metadata": {},
   "outputs": [],
   "source": [
    "# create dictionary for known words\n",
    "dct = create_dictionary(movie_reviews_clean)\n",
    "\n",
    "# initialize weights randomly\n",
    "W = init_weights(len(dct), 300)\n",
    "\n",
    "# gradient_descent\n",
    "N = len(context_target_pair)\n",
    "lr = 0.01\n",
    "n_epochs = 10000\n",
    "batch_size = 256\n",
    "n_batches = N // batch_size"
   ]
  },
  {
   "cell_type": "code",
   "execution_count": 41,
   "id": "92961024",
   "metadata": {},
   "outputs": [
    {
     "ename": "KeyboardInterrupt",
     "evalue": "",
     "output_type": "error",
     "traceback": [
      "\u001b[1;31m---------------------------------------------------------------------------\u001b[0m",
      "\u001b[1;31mKeyboardInterrupt\u001b[0m                         Traceback (most recent call last)",
      "Cell \u001b[1;32mIn[41], line 27\u001b[0m\n\u001b[0;32m     23\u001b[0m y_batch \u001b[38;5;241m=\u001b[39m jnp\u001b[38;5;241m.\u001b[39marray([one_hot_encode_from_word(word, dct) \u001b[38;5;28;01mfor\u001b[39;00m word \u001b[38;5;129;01min\u001b[39;00m y_batch])\n\u001b[0;32m     24\u001b[0m \u001b[38;5;66;03m# print(x_batch)\u001b[39;00m\n\u001b[0;32m     25\u001b[0m \u001b[38;5;66;03m# print(y_batch)\u001b[39;00m\n\u001b[1;32m---> 27\u001b[0m loss_value, grad \u001b[38;5;241m=\u001b[39m \u001b[43mloss_value_and_grad\u001b[49m\u001b[43m(\u001b[49m\u001b[43mW\u001b[49m\u001b[43m,\u001b[49m\u001b[43m \u001b[49m\u001b[43mx_batch\u001b[49m\u001b[43m[\u001b[49m\u001b[38;5;241;43m.\u001b[39;49m\u001b[38;5;241;43m.\u001b[39;49m\u001b[38;5;241;43m.\u001b[39;49m\u001b[43m,\u001b[49m\u001b[43m \u001b[49m\u001b[43mjnp\u001b[49m\u001b[38;5;241;43m.\u001b[39;49m\u001b[43mnewaxis\u001b[49m\u001b[43m]\u001b[49m\u001b[43m,\u001b[49m\u001b[43m \u001b[49m\u001b[43my_batch\u001b[49m\u001b[43m[\u001b[49m\u001b[38;5;241;43m.\u001b[39;49m\u001b[38;5;241;43m.\u001b[39;49m\u001b[38;5;241;43m.\u001b[39;49m\u001b[43m,\u001b[49m\u001b[43m \u001b[49m\u001b[43mjnp\u001b[49m\u001b[38;5;241;43m.\u001b[39;49m\u001b[43mnewaxis\u001b[49m\u001b[43m]\u001b[49m\u001b[43m)\u001b[49m\n\u001b[0;32m     28\u001b[0m losses\u001b[38;5;241m.\u001b[39mappend(loss_value)\n\u001b[0;32m     29\u001b[0m \u001b[38;5;66;03m# print(grad)\u001b[39;00m\n",
      "\u001b[1;31mKeyboardInterrupt\u001b[0m: "
     ]
    }
   ],
   "source": [
    "losses = []\n",
    "\n",
    "for epoch in range(n_epochs):\n",
    "    # shuffle the data\n",
    "    perm = np.random.permutation(N)\n",
    "    data = np.array(context_target_pair, dtype=object)\n",
    "    data_x = data[perm, 0]\n",
    "    data_y = data[perm, 1]\n",
    "\n",
    "    # stores all the losses for this epoch\n",
    "    epoch_losses = []\n",
    "    for batch in range(n_batches):\n",
    "        x_batch = data_x[batch*batch_size:(batch+1)*batch_size]\n",
    "        y_batch = data_y[batch*batch_size:(batch+1)*batch_size]\n",
    "        # one_hot_encode each batch\n",
    "        tmp = []\n",
    "        for context in x_batch:\n",
    "            vec = np.zeros(len(dct))\n",
    "            for word in context:\n",
    "                vec += one_hot_encode_from_word(word, dct)\n",
    "            tmp.append(vec)\n",
    "        x_batch = jnp.array(tmp)\n",
    "        y_batch = jnp.array([one_hot_encode_from_word(word, dct) for word in y_batch])\n",
    "        # print(x_batch)\n",
    "        # print(y_batch)\n",
    "        \n",
    "        loss_value, grad = loss_value_and_grad(W, x_batch[..., jnp.newaxis], y_batch[..., jnp.newaxis])\n",
    "        losses.append(loss_value)\n",
    "        # print(grad)\n",
    "        W = [W[0]-grad[0], W[1]-grad[1]]\n",
    "        # a slightly better / more-readable way to do this update is to use the \n",
    "        # `jax.tree_map`: https://jax.readthedocs.io/en/latest/jax-101/05.1-pytrees.html\n",
    "        # and the update would read as follows:\n",
    "        #\n",
    "        # params = jax.tree_map(lambda param, grad: param - lr*grad,params, grad)\n",
    "        #\n",
    "        epoch_losses.append(loss_value)\n",
    "        \n",
    "    # display the loss every 100 epochs\n",
    "    if epoch % 500 == 0:\n",
    "        print(f\"Epoch {epoch+1}/{n_epochs}, loss = {np.mean(epoch_losses)}\")\n"
   ]
  },
  {
   "cell_type": "code",
   "execution_count": null,
   "id": "ac312387",
   "metadata": {},
   "outputs": [],
   "source": []
  }
 ],
 "metadata": {
  "kernelspec": {
   "display_name": "Python 3 (ipykernel)",
   "language": "python",
   "name": "python3"
  },
  "language_info": {
   "codemirror_mode": {
    "name": "ipython",
    "version": 3
   },
   "file_extension": ".py",
   "mimetype": "text/x-python",
   "name": "python",
   "nbconvert_exporter": "python",
   "pygments_lexer": "ipython3",
   "version": "3.9.13"
  }
 },
 "nbformat": 4,
 "nbformat_minor": 5
}

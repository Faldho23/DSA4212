{
 "cells": [
  {
   "cell_type": "code",
   "execution_count": 1,
   "id": "5cb2cda9",
   "metadata": {},
   "outputs": [],
   "source": [
    "import numpy as np\n",
    "import pandas as pd\n",
    "from nltk import word_tokenize\n",
    "from datasets import load_dataset\n",
    "import string\n",
    "import jax\n",
    "import jax.numpy as jnp\n",
    "import re"
   ]
  },
  {
   "cell_type": "code",
   "execution_count": 2,
   "id": "2ea11bed",
   "metadata": {},
   "outputs": [],
   "source": [
    "# get dataset from huggingface\n",
    "data = load_dataset(\"imdb\")\n",
    "\n",
    "# get the reviews as array\n",
    "movie_reviews = np.array(data[\"unsupervised\"].data[\"text\"])\n",
    "\n",
    "# tokenize the dataset and remove punctuations\n",
    "movie_reviews_clean = []\n",
    "for review in movie_reviews:\n",
    "    movie_reviews_clean.append([re.sub(\"[^\\w]\", \"\", word.lower()) for word in word_tokenize(review)])"
   ]
  },
  {
   "cell_type": "code",
   "execution_count": 3,
   "id": "6e4e759b",
   "metadata": {},
   "outputs": [
    {
     "name": "stdout",
     "output_type": "stream",
     "text": [
      "[(('this', 'is', 'a', 'precious'), 'just'), (('is', 'just', 'precious', 'little'), 'a'), (('just', 'a', 'little', 'diamond'), 'precious'), (('a', 'precious', 'diamond', ''), 'little'), (('precious', 'little', '', 'the'), 'diamond'), (('little', 'diamond', 'the', 'play'), ''), (('diamond', '', 'play', ''), 'the'), (('', 'the', '', 'the'), 'play'), (('the', 'play', 'the', 'script'), ''), (('play', '', 'script', 'are'), 'the')]\n",
      "13967876\n"
     ]
    }
   ],
   "source": [
    "context_amount = 5\n",
    "context_target_pair = []\n",
    "for review in movie_reviews_clean:\n",
    "    for i in range(context_amount//2, len(review)-context_amount//2):\n",
    "        context_target_pair.append(((*review[(i-context_amount//2):i], *review[(i+1):(i+context_amount//2+1)]), review[i]))\n",
    "\n",
    "print(context_target_pair[:10])\n",
    "print(len(context_target_pair))"
   ]
  },
  {
   "cell_type": "code",
   "execution_count": 42,
   "id": "2cabca0a",
   "metadata": {},
   "outputs": [],
   "source": [
    "def create_dictionary(texts):\n",
    "    # record known words\n",
    "    tmp = set()\n",
    "    for text in texts:\n",
    "        for word in text:\n",
    "            tmp.add(word)\n",
    "            \n",
    "    # create dictionary mapping from word to unique id\n",
    "    dct = {}\n",
    "    i = 0\n",
    "    for word in tmp:\n",
    "        dct[word] = i\n",
    "        i += 1\n",
    "    return dct\n",
    "\n",
    "def one_hot_encode_from_word(word, dct):\n",
    "    arr = np.zeros(len(dct))\n",
    "    arr[dct[word]] = 1\n",
    "    return arr\n",
    "\n",
    "def one_hot_encode_from_id(index, dct):\n",
    "    arr = np.zeros(len(dct))\n",
    "    arr[index] = 1\n",
    "    return arr\n",
    "\n",
    "def softmax(x):\n",
    "    # Shift x to avoid numerical instability\n",
    "    shifted_x = x - jnp.max(x, axis=-1, keepdims=True)\n",
    "    \n",
    "    # Compute softmax values\n",
    "    exp_x = jnp.exp(shifted_x)\n",
    "    softmax_values = exp_x / jnp.sum(exp_x, axis=-1, keepdims=True)\n",
    "    \n",
    "    return softmax_values\n",
    "\n",
    "def init_weights(dct_size, embedding_size):\n",
    "    lst = []\n",
    "    lst.append(np.random.normal(0, 1, size = (embedding_size, dct_size)))\n",
    "    lst.append(np.random.normal(0, 1, size = (dct_size, embedding_size)))\n",
    "    return lst\n",
    "\n",
    "@jax.jit\n",
    "def forward(x, weights):\n",
    "    return softmax(jnp.matmul(weights[1], jnp.matmul(weights[0], x)))\n",
    "\n",
    "@jax.jit\n",
    "def loss(weights, x, y):\n",
    "    return -jnp.mean(jnp.sum(y * jnp.log(forward(x, weights)), axis=1))\n",
    "\n",
    "loss_value_and_grad = jax.jit(jax.value_and_grad(loss))"
   ]
  },
  {
   "cell_type": "code",
   "execution_count": 21,
   "id": "a5315d7b",
   "metadata": {},
   "outputs": [],
   "source": [
    "# create dictionary for known words\n",
    "dct = create_dictionary(movie_reviews_clean)\n",
    "\n",
    "# initialize weights randomly\n",
    "W = init_weights(len(dct), 300)\n",
    "\n",
    "# gradient_descent\n",
    "N = len(context_target_pair)\n",
    "lr = 0.01\n",
    "n_epochs = 10000\n",
    "batch_size = 256\n",
    "n_batches = N // batch_size"
   ]
  },
  {
   "cell_type": "code",
   "execution_count": 27,
   "id": "92961024",
   "metadata": {},
   "outputs": [
    {
     "ename": "KeyboardInterrupt",
     "evalue": "",
     "output_type": "error",
     "traceback": [
      "\u001b[1;31m---------------------------------------------------------------------------\u001b[0m",
      "\u001b[1;31mKeyboardInterrupt\u001b[0m                         Traceback (most recent call last)",
      "Cell \u001b[1;32mIn[27], line 7\u001b[0m\n\u001b[0;32m      5\u001b[0m perm \u001b[38;5;241m=\u001b[39m np\u001b[38;5;241m.\u001b[39mrandom\u001b[38;5;241m.\u001b[39mpermutation(N)\n\u001b[0;32m      6\u001b[0m data \u001b[38;5;241m=\u001b[39m np\u001b[38;5;241m.\u001b[39marray(context_target_pair, dtype\u001b[38;5;241m=\u001b[39m\u001b[38;5;28mobject\u001b[39m)\n\u001b[1;32m----> 7\u001b[0m data_x \u001b[38;5;241m=\u001b[39m data[perm, \u001b[38;5;241m0\u001b[39m]\n\u001b[0;32m      8\u001b[0m data_y \u001b[38;5;241m=\u001b[39m data[perm, \u001b[38;5;241m1\u001b[39m]\n\u001b[0;32m     10\u001b[0m \u001b[38;5;66;03m# stores all the losses for this epoch\u001b[39;00m\n",
      "\u001b[1;31mKeyboardInterrupt\u001b[0m: "
     ]
    }
   ],
   "source": [
    "losses = []\n",
    "\n",
    "for epoch in range(n_epochs):\n",
    "    # shuffle the data\n",
    "    perm = np.random.permutation(N)\n",
    "    data = np.array(context_target_pair, dtype=object)\n",
    "    data_x = data[perm, 0]\n",
    "    data_y = data[perm, 1]\n",
    "\n",
    "    # stores all the losses for this epoch\n",
    "    epoch_losses = []\n",
    "    for batch in range(n_batches):\n",
    "        x_batch = data_x[batch*batch_size:(batch+1)*batch_size]\n",
    "        y_batch = data_y[batch*batch_size:(batch+1)*batch_size]\n",
    "        # one_hot_encode each batch\n",
    "        tmp = []\n",
    "        for context in x_batch:\n",
    "            vec = np.zeros(len(dct))\n",
    "            for word in context:\n",
    "                vec += one_hot_encode_from_word(word, dct)\n",
    "            tmp.append(vec)\n",
    "        x_batch = jnp.array(tmp)\n",
    "        y_batch = jnp.array([one_hot_encode_from_word(word, dct) for word in y_batch])\n",
    "        # print(x_batch)\n",
    "        # print(y_batch)\n",
    "        \n",
    "        loss_value, grad = loss_value_and_grad(W, x_batch.T, y_batch.T)\n",
    "        losses.append(loss_value)\n",
    "        # print(grad)\n",
    "        W = [W[0]-lr*grad[0], W[1]-lr*grad[1]]\n",
    "        # a slightly better / more-readable way to do this update is to use the \n",
    "        # `jax.tree_map`: https://jax.readthedocs.io/en/latest/jax-101/05.1-pytrees.html\n",
    "        # and the update would read as follows:\n",
    "        #\n",
    "        # params = jax.tree_map(lambda param, grad: param - lr*grad,params, grad)\n",
    "        #\n",
    "        epoch_losses.append(loss_value)\n",
    "        \n",
    "    # display the loss every 100 epochs\n",
    "    if epoch % 500 == 0:\n",
    "        print(f\"Epoch {epoch+1}/{n_epochs}, loss = {np.mean(epoch_losses)}\")\n"
   ]
  },
  {
   "cell_type": "code",
   "execution_count": null,
   "id": "ac312387",
   "metadata": {},
   "outputs": [],
   "source": []
  }
 ],
 "metadata": {
  "kernelspec": {
   "display_name": "Python 3 (ipykernel)",
   "language": "python",
   "name": "python3"
  },
  "language_info": {
   "codemirror_mode": {
    "name": "ipython",
    "version": 3
   },
   "file_extension": ".py",
   "mimetype": "text/x-python",
   "name": "python",
   "nbconvert_exporter": "python",
   "pygments_lexer": "ipython3",
   "version": "3.9.13"
  }
 },
 "nbformat": 4,
 "nbformat_minor": 5
}

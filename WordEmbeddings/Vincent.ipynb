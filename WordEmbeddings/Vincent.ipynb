{
 "cells": [
  {
   "cell_type": "code",
   "execution_count": 34,
   "id": "5cb2cda9",
   "metadata": {},
   "outputs": [],
   "source": [
    "import numpy as np\n",
    "import pandas as pd\n",
    "from nltk import word_tokenize\n",
    "from datasets import load_dataset\n",
    "import string\n",
    "import jax\n",
    "import re"
   ]
  },
  {
   "cell_type": "code",
   "execution_count": 2,
   "id": "2ea11bed",
   "metadata": {},
   "outputs": [],
   "source": [
    "# get dataset from huggingface\n",
    "data = load_dataset(\"imdb\")\n",
    "\n",
    "# get the reviews as array\n",
    "movie_reviews = np.array(data[\"unsupervised\"].data[\"text\"])\n",
    "\n",
    "# tokenize the dataset and remove punctuations\n",
    "movie_reviews_clean = []\n",
    "for review in movie_reviews:\n",
    "    movie_reviews_clean.append([re.sub(\"[^\\w]\", \"\", word.lower()) for word in word_tokenize(review)])"
   ]
  },
  {
   "cell_type": "code",
   "execution_count": 3,
   "id": "2cabca0a",
   "metadata": {},
   "outputs": [],
   "source": [
    "def create_dictionary(texts):\n",
    "    # record known words\n",
    "    tmp = set()\n",
    "    for text in texts:\n",
    "        for word in text:\n",
    "            tmp.add(word)\n",
    "            \n",
    "    # create dictionary mapping from word to unique id\n",
    "    dct = {}\n",
    "    i = 0\n",
    "    for word in tmp:\n",
    "        dct[word] = i\n",
    "        i += 1\n",
    "    return dct\n",
    "\n",
    "def one_hot_encode_from_word(word, dct):\n",
    "    arr = np.zeros(len(dct))\n",
    "    arr[dct[word]] = 1\n",
    "    return arr\n",
    "\n",
    "def one_hot_encode_from_id(index, dct):\n",
    "    arr = np.zeros(len(dct))\n",
    "    arr[index] = 1\n",
    "    return arr\n",
    "\n",
    "def softmax(z):\n",
    "    # shift input values for numerical stability\n",
    "    z -= np.max(z)\n",
    "    \n",
    "    # compute softmax\n",
    "    exp_z = np.exp(z)\n",
    "    s = exp_z / np.sum(exp_z, axis=0)\n",
    "    \n",
    "    return s\n",
    "\n",
    "def init_weights(dct_size, embedding_size):\n",
    "    lst = []\n",
    "    lst.append(np.random.normal(0, 1, size = (embedding_size, dct_size)))\n",
    "    lst.append(np.random.normal(0, 1, size = (dct_size, embedding_size)))\n",
    "    return lst\n",
    "\n",
    "def forward(x, weights):\n",
    "    return softmax(np.matmul(weight[1], np.matmul(weight[0], x)))\n",
    "\n",
    "def loss(x, y, weights):\n",
    "    return -np.mean(np.sum(y * np.log(forward(x, weights)), axis=1))\n",
    "\n",
    "def gradient_descent(, batch_size, n_epochs):\n",
    "    for epoch in n_epochs:\n",
    "        for batch in \n",
    "        "
   ]
  },
  {
   "cell_type": "code",
   "execution_count": 42,
   "id": "a5315d7b",
   "metadata": {},
   "outputs": [],
   "source": [
    "# create dictionary for known words\n",
    "dct = create_dictionary(movie_reviews[0])\n",
    "\n",
    "# initialize weights randomly\n",
    "W = init_weights(len(dct), 300)\n",
    "\n",
    "# create neural network consisting of embedding layer and softmax function\n",
    "\n",
    "# do gradient descent to get optimal weight\n"
   ]
  },
  {
   "cell_type": "code",
   "execution_count": null,
   "id": "705c9b29",
   "metadata": {},
   "outputs": [],
   "source": []
  }
 ],
 "metadata": {
  "kernelspec": {
   "display_name": "Python 3 (ipykernel)",
   "language": "python",
   "name": "python3"
  },
  "language_info": {
   "codemirror_mode": {
    "name": "ipython",
    "version": 3
   },
   "file_extension": ".py",
   "mimetype": "text/x-python",
   "name": "python",
   "nbconvert_exporter": "python",
   "pygments_lexer": "ipython3",
   "version": "3.9.13"
  }
 },
 "nbformat": 4,
 "nbformat_minor": 5
}
